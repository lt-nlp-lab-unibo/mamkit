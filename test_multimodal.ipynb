{
 "cells": [
  {
   "cell_type": "code",
   "execution_count": null,
   "metadata": {},
   "outputs": [],
   "source": [
    "import lightning as L\n",
    "import torch\n",
    "from torch.nn.utils.rnn import pad_sequence\n",
    "from mamkit.utils import get_multimodal_dataset, to_lighting_model\n",
    "from mamkit.datasets import MultimodalCollator, BERT_Collator\n",
    "from mamkit.models import MAMKitCSA"
   ]
  },
  {
   "cell_type": "code",
   "execution_count": null,
   "metadata": {},
   "outputs": [],
   "source": [
    "train, val, test = get_multimodal_dataset('usdbelec', lambda x: x, 'wav2vec2-single', 'acc')"
   ]
  },
  {
   "cell_type": "code",
   "execution_count": null,
   "metadata": {},
   "outputs": [],
   "source": [
    "# ACC\n",
    "\n",
    "LABELS_TO_INT = {\n",
    "    'Claim': 0,\n",
    "    'Premise': 1,\n",
    "}\n",
    "\n",
    "# ASD\n",
    "\n",
    "# LABELS_TO_INT = {\n",
    "#     'ARG': 0,\n",
    "#     'Not-ARG': 1,\n",
    "# }"
   ]
  },
  {
   "cell_type": "code",
   "execution_count": null,
   "metadata": {},
   "outputs": [],
   "source": [
    "def audio_collate_fn(features):\n",
    "    features = pad_sequence(features, batch_first=True, padding_value=float('-inf'))\n",
    "    attention_mask = features[:, :, 0] != float('-inf')\n",
    "    features[(features == float('-inf'))] = 0\n",
    "    return features, attention_mask\n",
    "\n",
    "def label_collator(labels):\n",
    "    return torch.tensor([LABELS_TO_INT[label] for label in labels])"
   ]
  },
  {
   "cell_type": "code",
   "execution_count": null,
   "metadata": {},
   "outputs": [],
   "source": [
    "collate_fn = MultimodalCollator(\n",
    "    text_collator=BERT_Collator(),\n",
    "    audio_collator=audio_collate_fn,\n",
    "    label_collator=label_collator\n",
    ")"
   ]
  },
  {
   "cell_type": "code",
   "execution_count": null,
   "metadata": {},
   "outputs": [],
   "source": [
    "train_dataloader = torch.utils.data.DataLoader(train, batch_size=8, shuffle=False, collate_fn=collate_fn)\n",
    "val_dataloader = torch.utils.data.DataLoader(val, batch_size=8, shuffle=False, collate_fn=collate_fn)\n",
    "test_dataloader = torch.utils.data.DataLoader(test, batch_size=8, shuffle=False, collate_fn=collate_fn)"
   ]
  },
  {
   "cell_type": "code",
   "execution_count": null,
   "metadata": {},
   "outputs": [],
   "source": [
    "from mamkit.modules import CustomEncoder, PositionalEncoding\n",
    "\n",
    "pos = PositionalEncoding(768)\n",
    "\n",
    "csa_encoder = CustomEncoder(\n",
    "    d_model = 768,\n",
    "    ffn_hidden = 16,\n",
    "    n_head = 1,\n",
    "    n_layers = 1,\n",
    "    drop_prob = 0.1\n",
    ")\n",
    "\n",
    "csa_head = torch.nn.Linear(768, 3)\n",
    "\n",
    "\n",
    "model = MAMKitCSA(\n",
    "    transformer = csa_encoder,\n",
    "    head = csa_head,\n",
    "    positional_encoder = pos\n",
    ")\n",
    "\n"
   ]
  },
  {
   "cell_type": "code",
   "execution_count": null,
   "metadata": {},
   "outputs": [],
   "source": [
    "lt_model = to_lighting_model(model, torch.nn.CrossEntropyLoss(), torch.optim.Adam)"
   ]
  },
  {
   "cell_type": "code",
   "execution_count": null,
   "metadata": {},
   "outputs": [],
   "source": [
    "trainer = L.Trainer(max_epochs=1)\n",
    "\n",
    "trainer.fit(lt_model, train_dataloader, val_dataloader)"
   ]
  },
  {
   "cell_type": "code",
   "execution_count": null,
   "metadata": {},
   "outputs": [],
   "source": [
    "test_results = trainer.test(lt_model, test_dataloader)"
   ]
  },
  {
   "cell_type": "code",
   "execution_count": null,
   "metadata": {},
   "outputs": [],
   "source": [
    "test_results"
   ]
  }
 ],
 "metadata": {
  "kernelspec": {
   "display_name": "Python 3",
   "language": "python",
   "name": "python3"
  },
  "language_info": {
   "codemirror_mode": {
    "name": "ipython",
    "version": 3
   },
   "file_extension": ".py",
   "mimetype": "text/x-python",
   "name": "python",
   "nbconvert_exporter": "python",
   "pygments_lexer": "ipython3",
   "version": "3.10.12"
  }
 },
 "nbformat": 4,
 "nbformat_minor": 2
}
